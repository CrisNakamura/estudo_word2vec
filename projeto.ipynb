{
 "cells": [
  {
   "cell_type": "markdown",
   "metadata": {},
   "source": [
    "## Bibliotecas"
   ]
  },
  {
   "cell_type": "code",
   "execution_count": null,
   "metadata": {},
   "outputs": [],
   "source": [
    "import pandas as pd\n",
    "import numpy as np\n",
    "import nltk\n",
    "import string\n",
    "from gensim.models import KeyedVectors"
   ]
  },
  {
   "cell_type": "markdown",
   "metadata": {},
   "source": [
    "## Carregando os dados"
   ]
  },
  {
   "cell_type": "code",
   "execution_count": null,
   "metadata": {},
   "outputs": [],
   "source": [
    "artigo_treino = pd.read_csv('Dados/treino.csv')\n",
    "artigo_teste = pd.read_csv('Dados/teste.csv')\n"
   ]
  },
  {
   "cell_type": "markdown",
   "metadata": {},
   "source": [
    "## Visualizando os dados"
   ]
  },
  {
   "cell_type": "code",
   "execution_count": null,
   "metadata": {},
   "outputs": [],
   "source": [
    "# Visualizando os dados de treino.\n",
    "artigo_treino.sample(5)"
   ]
  },
  {
   "cell_type": "code",
   "execution_count": null,
   "metadata": {},
   "outputs": [],
   "source": [
    "# Visualizando os dados de teste.\n",
    "artigo_teste.sample(5)"
   ]
  },
  {
   "cell_type": "markdown",
   "metadata": {},
   "source": [
    "## Lendo cbow.txt"
   ]
  },
  {
   "cell_type": "code",
   "execution_count": null,
   "metadata": {},
   "outputs": [],
   "source": [
    "# Lendo o arquivo de vetores pré-treinados.\n",
    "with open (r'.\\Dados\\cbow_s300.txt\\cbow_s300.txt', 'r', encoding='utf-8') as f:\n",
    "    for linha in range(10):\n",
    "        print(next(f))"
   ]
  },
  {
   "cell_type": "code",
   "execution_count": null,
   "metadata": {},
   "outputs": [],
   "source": [
    "modelo = KeyedVectors.load_word2vec_format(r'.\\Dados\\cbow_s300.txt\\cbow_s300.txt')"
   ]
  },
  {
   "cell_type": "markdown",
   "metadata": {},
   "source": [
    "## Vetorização de texto"
   ]
  },
  {
   "cell_type": "markdown",
   "metadata": {},
   "source": [
    "### Tokenização"
   ]
  },
  {
   "cell_type": "code",
   "execution_count": null,
   "metadata": {},
   "outputs": [],
   "source": [
    "# Criando uma função para tokenizar o texto.\n",
    "def tokenizador(texto):\n",
    "    # deixando o texto em minúsculo\n",
    "    texto = texto.lower()\n",
    "\n",
    "    # criando uma lista vazia para armazenar os tokens.\n",
    "    lista_alfanumerico = []\n",
    "\n",
    "    # para cada token no texto, se o token não estiver na lista de pontuações, adicione-o à lista de tokens.\n",
    "    for token_valido in nltk.word_tokenize(texto):\n",
    "        if token_valido in string.punctuation: continue\n",
    "        lista_alfanumerico.append(token_valido)      \n",
    "\n",
    "    return lista_alfanumerico"
   ]
  },
  {
   "cell_type": "code",
   "execution_count": null,
   "metadata": {},
   "outputs": [],
   "source": [
    "# Criando uma função para vetorizar o texto.\n",
    "def combinacao_de_vetores_por_soma(palavras_numeros):\n",
    "    # definindo um vetor de tamanho 300 com valores 0.\n",
    "    vetor_resultante = np.zeros(300)\n",
    "\n",
    "    # para cada palavra-numero no texto, soma o vetor da palavra ao vetor_resultante.\n",
    "    for pn in palavras_numeros:\n",
    "        try:\n",
    "            vetor_resultante += modelo.get_vector(pn)    \n",
    "        except KeyError:\n",
    "            if pn.isnumeric():\n",
    "                pn = '0'*len(pn)\n",
    "                vetor_resultante += modelo.get_vector(pn)\n",
    "            else:\n",
    "                vetor_resultante += modelo.get_vector('unknown')\n",
    "    return vetor_resultante"
   ]
  },
  {
   "cell_type": "markdown",
   "metadata": {},
   "source": [
    "## Vetorizando os dados"
   ]
  },
  {
   "cell_type": "code",
   "execution_count": null,
   "metadata": {},
   "outputs": [],
   "source": [
    "# Criando uma função para vetorizar os dados de treino e teste.\n",
    "def matriz_vetores(textos):\n",
    "    matriz = np.zeros((len(textos), 300))\n",
    "\n",
    "    for i in range(len(textos)):\n",
    "        palavras_numeros = tokenizador(textos.iloc[i])\n",
    "        matriz[i] = combinacao_de_vetores_por_soma(palavras_numeros)\n",
    "\n",
    "    return matriz\n",
    "\n",
    "# Vetorizando os dados de treino e teste.\n",
    "matriz_vetores_treino = matriz_vetores(artigo_treino.title)\n",
    "matriz_vetores_teste = matriz_vetores(artigo_teste.title)\n",
    "\n",
    "print(matriz_vetores_treino.shape)\n",
    "print(matriz_vetores_teste.shape)"
   ]
  }
 ],
 "metadata": {
  "kernelspec": {
   "display_name": "base",
   "language": "python",
   "name": "python3"
  },
  "language_info": {
   "codemirror_mode": {
    "name": "ipython",
    "version": 3
   },
   "file_extension": ".py",
   "mimetype": "text/x-python",
   "name": "python",
   "nbconvert_exporter": "python",
   "pygments_lexer": "ipython3",
   "version": "3.11.5"
  }
 },
 "nbformat": 4,
 "nbformat_minor": 2
}
